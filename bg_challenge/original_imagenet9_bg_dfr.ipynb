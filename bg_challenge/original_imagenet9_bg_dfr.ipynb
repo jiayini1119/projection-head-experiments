{
 "cells": [
  {
   "cell_type": "markdown",
   "metadata": {},
   "source": [
    "# Train and evaluate DFR on ImageNet-9 variations"
   ]
  },
  {
   "cell_type": "code",
   "execution_count": 1,
   "metadata": {},
   "outputs": [],
   "source": [
    "import sys\n",
    "import numpy as np\n",
    "import torch\n",
    "import torchvision\n",
    "import einops\n",
    "import json\n",
    "import tqdm\n",
    "\n",
    "from matplotlib import pyplot as plt\n",
    "\n",
    "import sys\n",
    "\n",
    "from sklearn.preprocessing import StandardScaler\n",
    "\n",
    "\n",
    "%matplotlib inline"
   ]
  },
  {
   "cell_type": "code",
   "execution_count": 2,
   "metadata": {},
   "outputs": [],
   "source": [
    "map_to_in9 = {}\n",
    "with open('in_to_in9.json', 'r') as f:\n",
    "    map_to_in9.update(json.load(f))"
   ]
  },
  {
   "cell_type": "code",
   "execution_count": 3,
   "metadata": {},
   "outputs": [],
   "source": [
    "def load_embeddings(path):\n",
    "    arr = np.load(path)\n",
    "    x, y = arr[\"embeddings\"], arr[\"labels\"]\n",
    "    if np.max(y) > 9:\n",
    "        y = np.array([map_to_in9[str(y_)] for y_ in y])\n",
    "        mask = y != -1\n",
    "        x, y = x[mask], y[mask]\n",
    "    return x, y"
   ]
  },
  {
   "cell_type": "code",
   "execution_count": 4,
   "metadata": {},
   "outputs": [],
   "source": [
    "def train_logreg(\n",
    "    x_train, y_train, eval_datasets, \n",
    "    n_epochs=1000, weight_decay=0., lr=1.,\n",
    "    verbose=0\n",
    "    ):\n",
    "    \n",
    "    x_train = torch.from_numpy(x_train).float().cuda()\n",
    "    y_train = torch.from_numpy(y_train).long().cuda()\n",
    "    \n",
    "    d = x_train.shape[1]\n",
    "    model = torch.nn.Linear(d, 9).cuda()\n",
    "    criterion = torch.nn.CrossEntropyLoss()\n",
    "    optimizer = torch.optim.SGD(\n",
    "        model.parameters(), weight_decay=weight_decay, lr=lr)\n",
    "    schedule = torch.optim.lr_scheduler.CosineAnnealingLR(optimizer=optimizer, T_max=n_epochs)\n",
    "    \n",
    "    for epoch in range(n_epochs):\n",
    "        optimizer.zero_grad()\n",
    "        pred = model(x_train)\n",
    "        loss = criterion(pred, y_train)\n",
    "        loss.backward()\n",
    "        optimizer.step()\n",
    "        schedule.step()\n",
    "        acc = (torch.argmax(pred, -1) == y_train).detach().float().mean()\n",
    "        if verbose > 1 and epoch % (n_epochs // 10) == 0:\n",
    "            print(epoch, acc)\n",
    "    \n",
    "    results = {}\n",
    "    for key, (x_test, y_test) in eval_datasets.items():\n",
    "        x_test = torch.from_numpy(x_test).float().cuda()\n",
    "        pred = torch.argmax(model(x_test), axis=-1).detach().cpu().numpy()\n",
    "        results[key] = (pred == y_test).mean()\n",
    "    \n",
    "    pred = torch.argmax(model(x_train), axis=-1)\n",
    "    results[\"train\"] = (pred == y_train).detach().cpu().float().mean().item()\n",
    "\n",
    "    return model, results"
   ]
  },
  {
   "cell_type": "code",
   "execution_count": 5,
   "metadata": {},
   "outputs": [],
   "source": [
    "def get_data(\n",
    "    train_datasets, eval_datasets, \n",
    "    num_mixrand=-1, num_original=0, preprocess=True):\n",
    "    x_train, y_train = train_datasets[\"bgc_original\"]\n",
    "    idx = np.arange(len(x_train))\n",
    "    np.random.shuffle(idx)\n",
    "    idx = idx[:num_original]\n",
    "    x_train = x_train[idx]\n",
    "    y_train = y_train[idx]\n",
    "\n",
    "    x_train_mr, y_train_mr = train_datasets[\"bgc_mixedrand\"]\n",
    "    idx = np.arange(len(x_train_mr))\n",
    "    np.random.shuffle(idx)\n",
    "    idx = idx[:num_mixrand]\n",
    "    x_train_mr = x_train_mr[idx]\n",
    "    y_train_mr = y_train_mr[idx]\n",
    "\n",
    "    x_train = np.concatenate([x_train, x_train_mr])\n",
    "    y_train = np.concatenate([y_train, y_train_mr])\n",
    "\n",
    "    if preprocess:\n",
    "        scaler = StandardScaler()\n",
    "        x_train = scaler.fit_transform(x_train)\n",
    "        eval_datasets_preprocessed = {\n",
    "            k: (scaler.transform(x), y)\n",
    "            for k, (x, y) in eval_datasets.items()\n",
    "        }\n",
    "    else:\n",
    "        eval_datasets_preprocessed = eval_datasets\n",
    "    return x_train, y_train, eval_datasets_preprocessed\n",
    "\n",
    "\n",
    "def run_experiment(\n",
    "    train_datasets, eval_datasets,\n",
    "    num_mixrand=-1, num_original=0, preprocess=True,\n",
    "    n_epochs=1000, weight_decay=0., lr=1., verbose=0,\n",
    "    num_seeds=3\n",
    "):\n",
    "    print(lr)\n",
    "    print(weight_decay)\n",
    "    print(n_epochs)\n",
    "    results = {}\n",
    "    for seed in range(num_seeds):\n",
    "        x_train, y_train, eval_datasets_preprocessed = get_data(\n",
    "            train_datasets, eval_datasets,\n",
    "            num_mixrand, num_original, preprocess)\n",
    "        _, results_seed = train_logreg(\n",
    "            x_train, y_train, eval_datasets_preprocessed, \n",
    "            n_epochs, weight_decay, lr, verbose)\n",
    "        results[seed] = results_seed\n",
    "    \n",
    "    results_aggrgated = {\n",
    "        key: (np.mean([results[seed][key] for seed in results.keys()]),\n",
    "              np.std([results[seed][key] for seed in results.keys()]))\n",
    "        for key in results[0].keys()\n",
    "    }\n",
    "    return results, results_aggrgated\n",
    "\n",
    "\n",
    "def print_results(results_dict):\n",
    "    print(\"-------------------\")\n",
    "    for key, val in results_dict.items():\n",
    "        print(\"{}: {:.3f}±{:.3f}\".format(key, val[0], val[1]))\n",
    "    print(\"-------------------\")"
   ]
  },
  {
   "cell_type": "markdown",
   "metadata": {},
   "source": [
    "## ResNet-50"
   ]
  },
  {
   "cell_type": "markdown",
   "metadata": {},
   "source": [
    "Change data paths here."
   ]
  },
  {
   "cell_type": "code",
   "execution_count": 6,
   "metadata": {},
   "outputs": [],
   "source": [
    "use_prev_layer = False\n",
    "\n",
    "eval_path_dict = {\n",
    "    \"imagenet_r\": f\"/home/jennyni/datasets/imagenet-r/imagenet-r_{use_prev_layer}_val_embeddings.npz\",\n",
    "    \"imagenet_a\": f\"/home/jennyni/datasets/imagenet-a/imagenet-a_{use_prev_layer}_val_embeddings.npz\",\n",
    "    \"bgc_original\": f\"/home/jennyni/datasets/bg_challenge/original/bg_challenge_{use_prev_layer}_val_embeddings.npz\",\n",
    "    \"bgc_fg\": f\"/home/jennyni/datasets/bg_challenge/only_fg/bg_challenge_{use_prev_layer}_val_embeddings.npz\",\n",
    "    \"bgc_mixedrand\": f\"/home/jennyni/datasets/bg_challenge/mixed_rand/bg_challenge_{use_prev_layer}_val_embeddings.npz\",\n",
    "    # \"bgc_paintings\": f\"/home/jennyni/datasets/bg_challenge/paintings_bg/bg_challenge_{use_prev_layer}_resnet50_val_embeddings.npz\"\n",
    "}\n",
    "\n",
    "eval_datasets = {k: load_embeddings(p) for k, p in eval_path_dict.items()}\n",
    "\n",
    "train_path_dict = {\n",
    "    # \"bgc_original\": f\"/home/jennyni/datasets/original/bg_challenge_{use_prev_layer}_train_standardSL_embeddings.npz\",\n",
    "    # \"bgc_mixedrand\": f\"/home/jennyni/datasets/mixed_rand/bg_challenge_{use_prev_layer}_train_standardSL_embeddings.npz\",\n",
    "    \"bgc_original\": f\"/home/jennyni/datasets/original/bg_challenge_{use_prev_layer}_train_embeddings.npz\",\n",
    "    \"bgc_mixedrand\": f\"/home/jennyni/datasets/mixed_rand/bg_challenge_{use_prev_layer}_train_embeddings.npz\",\n",
    "\n",
    "}\n",
    "train_datasets = {k: load_embeddings(p) for k, p in train_path_dict.items()}"
   ]
  },
  {
   "cell_type": "code",
   "execution_count": 7,
   "metadata": {},
   "outputs": [],
   "source": [
    "ns = [1000, 5000, 10000, 20000, 45405]\n",
    "num_seeds = 5"
   ]
  },
  {
   "cell_type": "markdown",
   "metadata": {},
   "source": [
    "### Baseline"
   ]
  },
  {
   "cell_type": "code",
   "execution_count": 8,
   "metadata": {},
   "outputs": [],
   "source": [
    "# seed_results, results_original = run_experiment(train_datasets, eval_datasets,\n",
    "#                                                 num_mixrand=0, num_original=-1, num_seeds=num_seeds, n_epochs=2000,\n",
    "#                                                 weight_decay=100/45405)\n",
    "# print_results(results_original)"
   ]
  },
  {
   "cell_type": "markdown",
   "metadata": {},
   "source": [
    "### Mixed-Rand"
   ]
  },
  {
   "cell_type": "code",
   "execution_count": 9,
   "metadata": {},
   "outputs": [
    {
     "name": "stdout",
     "output_type": "stream",
     "text": [
      "1.0\n",
      "0.1\n",
      "2000\n",
      "-------------------\n",
      "imagenet_r: 0.477±0.016\n",
      "imagenet_a: 0.271±0.012\n",
      "bgc_original: 0.936±0.002\n",
      "bgc_fg: 0.893±0.006\n",
      "bgc_mixedrand: 0.863±0.003\n",
      "train: 1.000±0.000\n",
      "-------------------\n",
      "1.0\n",
      "0.02\n",
      "2000\n",
      "-------------------\n",
      "imagenet_r: 0.526±0.012\n",
      "imagenet_a: 0.282±0.013\n",
      "bgc_original: 0.948±0.005\n",
      "bgc_fg: 0.917±0.005\n",
      "bgc_mixedrand: 0.895±0.004\n",
      "train: 0.977±0.001\n",
      "-------------------\n",
      "1.0\n",
      "0.01\n",
      "2000\n",
      "-------------------\n",
      "imagenet_r: 0.535±0.006\n",
      "imagenet_a: 0.282±0.008\n",
      "bgc_original: 0.951±0.003\n",
      "bgc_fg: 0.922±0.005\n",
      "bgc_mixedrand: 0.909±0.001\n",
      "train: 0.955±0.001\n",
      "-------------------\n",
      "1.0\n",
      "0.005\n",
      "2000\n",
      "-------------------\n",
      "imagenet_r: 0.536±0.006\n",
      "imagenet_a: 0.285±0.006\n",
      "bgc_original: 0.958±0.003\n",
      "bgc_fg: 0.932±0.003\n",
      "bgc_mixedrand: 0.919±0.001\n",
      "train: 0.936±0.001\n",
      "-------------------\n",
      "1.0\n",
      "0.0022024006166721727\n",
      "2000\n",
      "-------------------\n",
      "imagenet_r: 0.554±0.000\n",
      "imagenet_a: 0.286±0.000\n",
      "bgc_original: 0.963±0.000\n",
      "bgc_fg: 0.939±0.000\n",
      "bgc_mixedrand: 0.926±0.000\n",
      "train: 0.919±0.000\n",
      "-------------------\n"
     ]
    }
   ],
   "source": [
    "mixrand_results_ns = []\n",
    "for n in ns:\n",
    "    num_mixrand = n\n",
    "    num_original = 0\n",
    "\n",
    "    n_data = num_mixrand + num_original\n",
    "    wd = 100 / n_data\n",
    "    n_epochs = 2000\n",
    "    seed_results, results_aggrgated = run_experiment(\n",
    "        train_datasets, eval_datasets,\n",
    "        num_mixrand, num_original, weight_decay=wd, n_epochs=n_epochs,\n",
    "        num_seeds=num_seeds)\n",
    "    print_results(results_aggrgated)\n",
    "    mixrand_results_ns.append(results_aggrgated)"
   ]
  },
  {
   "cell_type": "markdown",
   "metadata": {},
   "source": [
    "### Mixed-Rand + Original"
   ]
  },
  {
   "cell_type": "code",
   "execution_count": 10,
   "metadata": {},
   "outputs": [
    {
     "name": "stdout",
     "output_type": "stream",
     "text": [
      "1.0\n",
      "0.05\n",
      "2000\n",
      "-------------------\n",
      "imagenet_r: 0.510±0.015\n",
      "imagenet_a: 0.316±0.011\n",
      "bgc_original: 0.960±0.002\n",
      "bgc_fg: 0.913±0.007\n",
      "bgc_mixedrand: 0.876±0.005\n",
      "train: 0.999±0.001\n",
      "-------------------\n",
      "1.0\n",
      "0.01\n",
      "2000\n",
      "-------------------\n",
      "imagenet_r: 0.525±0.019\n",
      "imagenet_a: 0.308±0.005\n",
      "bgc_original: 0.968±0.002\n",
      "bgc_fg: 0.926±0.006\n",
      "bgc_mixedrand: 0.901±0.004\n",
      "train: 0.982±0.002\n",
      "-------------------\n",
      "1.0\n",
      "0.005\n",
      "2000\n",
      "-------------------\n",
      "imagenet_r: 0.527±0.006\n",
      "imagenet_a: 0.311±0.007\n",
      "bgc_original: 0.969±0.001\n",
      "bgc_fg: 0.932±0.004\n",
      "bgc_mixedrand: 0.911±0.001\n",
      "train: 0.969±0.001\n",
      "-------------------\n",
      "1.0\n",
      "0.0025\n",
      "2000\n",
      "-------------------\n",
      "imagenet_r: 0.544±0.005\n",
      "imagenet_a: 0.313±0.007\n",
      "bgc_original: 0.972±0.001\n",
      "bgc_fg: 0.937±0.002\n",
      "bgc_mixedrand: 0.920±0.001\n",
      "train: 0.960±0.001\n",
      "-------------------\n",
      "1.0\n",
      "0.0011012003083360864\n",
      "2000\n",
      "-------------------\n",
      "imagenet_r: 0.556±0.000\n",
      "imagenet_a: 0.319±0.000\n",
      "bgc_original: 0.974±0.000\n",
      "bgc_fg: 0.943±0.000\n",
      "bgc_mixedrand: 0.925±0.000\n",
      "train: 0.950±0.000\n",
      "-------------------\n"
     ]
    }
   ],
   "source": [
    "combo_results_ns = []\n",
    "for n in ns:\n",
    "    num_mixrand = n\n",
    "    num_original = n\n",
    "\n",
    "    n_data = num_mixrand + num_original\n",
    "    wd = 100 / n_data\n",
    "    n_epochs = 2000\n",
    "    seed_results, results_aggrgated = run_experiment(\n",
    "        train_datasets, eval_datasets,\n",
    "        num_mixrand, num_original, weight_decay=wd, n_epochs=n_epochs,\n",
    "        num_seeds=num_seeds)\n",
    "    print_results(results_aggrgated)\n",
    "    combo_results_ns.append(results_aggrgated)"
   ]
  },
  {
   "cell_type": "code",
   "execution_count": 11,
   "metadata": {},
   "outputs": [],
   "source": [
    "def plot_results(key, ax, ns, mixrand_results_ns, combo_results_ns, results_original):\n",
    "    mixrand_mu = np.array([results[key][0] for results in mixrand_results_ns])\n",
    "    mixrand_sigma = np.array([results[key][1] for results in mixrand_results_ns])\n",
    "\n",
    "    original_mu = np.array([results_original[key][0] for _ in ns])\n",
    "    original_sigma = np.array([results_original[key][1] for _ in ns])\n",
    "\n",
    "    combo_mu = np.array([results[key][0] for results in combo_results_ns])\n",
    "    combo_sigma = np.array([results[key][1] for results in combo_results_ns])\n",
    "    ax.plot(ns, mixrand_mu, \"-bo\", label=\"DFR MR\")\n",
    "    ax.fill_between(ns, mixrand_mu + mixrand_sigma, mixrand_mu - mixrand_sigma,\n",
    "                   color=\"b\", alpha=0.3)\n",
    "    ax.plot(ns, combo_mu, \"-ro\", label=\"DFR MR + Og\")\n",
    "    ax.fill_between(ns, combo_mu + combo_sigma, combo_mu - combo_sigma,\n",
    "                    color=\"r\", alpha=0.3)\n",
    "    ax.plot(ns, original_mu, \"--g\", label=\"DFR Og\")\n",
    "    ax.fill_between(ns, original_mu + original_sigma, original_mu - original_sigma,\n",
    "                    color=\"g\", alpha=0.3)\n",
    "    \n",
    "    ax.legend()\n",
    "    ax.set_xlabel(\"# MixedRand Data\", fontsize=12)\n",
    "    ax.set_ylabel(f\"{key} Test Acc\", fontsize=12)"
   ]
  },
  {
   "cell_type": "code",
   "execution_count": 12,
   "metadata": {},
   "outputs": [
    {
     "name": "stdout",
     "output_type": "stream",
     "text": [
      "[{'imagenet_r': (0.5104353011329756, 0.014972363017504658), 'imagenet_a': (0.3155805846071333, 0.011301827107709715), 'bgc_original': (0.9603456790123456, 0.002155938760784507), 'bgc_fg': (0.9131851851851852, 0.007345585641070647), 'bgc_mixedrand': (0.8764938271604938, 0.0053127173561603215), 'train': (0.9991000056266784, 0.000663312823827469)}, {'imagenet_r': (0.5250911018352878, 0.018815568793173504), 'imagenet_a': (0.30834003754357736, 0.005142684269399035), 'bgc_original': (0.9679506172839506, 0.0019654072831736136), 'bgc_fg': (0.9257777777777777, 0.0057070697138542755), 'bgc_mixedrand': (0.9011358024691358, 0.0038079165725742165), 'train': (0.9822000026702881, 0.0015297118766521471)}, {'imagenet_r': (0.5271582852978203, 0.006235604151442249), 'imagenet_a': (0.3113971574148565, 0.006712571884006242), 'bgc_original': (0.9694320987654322, 0.0011086392257107966), 'bgc_fg': (0.9322962962962963, 0.004272104445211317), 'bgc_mixedrand': (0.9111604938271605, 0.001426126328710476), 'train': (0.9689599871635437, 0.0006044817984351858)}, {'imagenet_r': (0.544066785927251, 0.005304543588358345), 'imagenet_a': (0.31311343523732904, 0.006646249857724714), 'bgc_original': (0.9718518518518519, 0.0014227022509519164), 'bgc_fg': (0.9366913580246912, 0.0021784439506284422), 'bgc_mixedrand': (0.9203950617283951, 0.0013121313832677767), 'train': (0.9602349996566772, 0.0007863772801643043)}, {'imagenet_r': (0.5564963890545286, 0.0003174756125544365), 'imagenet_a': (0.318744971842317, 0.0003637613292102644), 'bgc_original': (0.9744197530864197, 0.0001209624564337682), 'bgc_fg': (0.9432592592592591, 0.00039506172839506577), 'bgc_mixedrand': (0.9253827160493827, 0.00036288736930125017), 'train': (0.9501068234443665, 5.842661931496945e-05)}]\n"
     ]
    }
   ],
   "source": [
    "print(combo_results_ns)"
   ]
  },
  {
   "cell_type": "code",
   "execution_count": 13,
   "metadata": {},
   "outputs": [
    {
     "ename": "NameError",
     "evalue": "name 'results_original' is not defined",
     "output_type": "error",
     "traceback": [
      "\u001b[0;31m---------------------------------------------------------------------------\u001b[0m",
      "\u001b[0;31mNameError\u001b[0m                                 Traceback (most recent call last)",
      "Cell \u001b[0;32mIn[13], line 3\u001b[0m\n\u001b[1;32m      1\u001b[0m f, arr \u001b[39m=\u001b[39m plt\u001b[39m.\u001b[39msubplots(\u001b[39m1\u001b[39m, \u001b[39m5\u001b[39m, figsize\u001b[39m=\u001b[39m(\u001b[39m16\u001b[39m, \u001b[39m3\u001b[39m))\n\u001b[0;32m----> 3\u001b[0m plot_results(\u001b[39m\"\u001b[39m\u001b[39mbgc_mixedrand\u001b[39m\u001b[39m\"\u001b[39m, arr[\u001b[39m0\u001b[39m], np\u001b[39m.\u001b[39marray(ns), mixrand_results_ns, combo_results_ns, results_original)\n\u001b[1;32m      4\u001b[0m plot_results(\u001b[39m\"\u001b[39m\u001b[39mbgc_fg\u001b[39m\u001b[39m\"\u001b[39m, arr[\u001b[39m1\u001b[39m], np\u001b[39m.\u001b[39marray(ns), mixrand_results_ns, combo_results_ns, results_original)\n\u001b[1;32m      5\u001b[0m plot_results(\u001b[39m\"\u001b[39m\u001b[39mbgc_original\u001b[39m\u001b[39m\"\u001b[39m, arr[\u001b[39m2\u001b[39m], np\u001b[39m.\u001b[39marray(ns), mixrand_results_ns, combo_results_ns, results_original)\n",
      "\u001b[0;31mNameError\u001b[0m: name 'results_original' is not defined"
     ]
    },
    {
     "data": {
      "image/png": "[encoded data removed]",
      "text/plain": [
       "<Figure size 1600x300 with 5 Axes>"
      ]
     },
     "metadata": {},
     "output_type": "display_data"
    }
   ],
   "source": [
    "f, arr = plt.subplots(1, 5, figsize=(16, 3))\n",
    "\n",
    "plot_results(\"bgc_mixedrand\", arr[0], np.array(ns), mixrand_results_ns, combo_results_ns, results_original)\n",
    "plot_results(\"bgc_fg\", arr[1], np.array(ns), mixrand_results_ns, combo_results_ns, results_original)\n",
    "plot_results(\"bgc_original\", arr[2], np.array(ns), mixrand_results_ns, combo_results_ns, results_original)\n",
    "plot_results(\"imagenet_r\", arr[3], np.array(ns), mixrand_results_ns, combo_results_ns, results_original)\n",
    "plot_results(\"imagenet_a\", arr[4], np.array(ns), mixrand_results_ns, combo_results_ns, results_original)\n",
    "# plot_results(\"bgc_paintings\", arr[5], np.array(ns), mixrand_results_ns, combo_results_ns, results_original)\n",
    "\n",
    "plt.tight_layout()"
   ]
  },
  {
   "cell_type": "code",
   "execution_count": null,
   "metadata": {},
   "outputs": [],
   "source": []
  }
 ],
 "metadata": {
  "kernelspec": {
   "display_name": "base",
   "language": "python",
   "name": "python3"
  },
  "language_info": {
   "codemirror_mode": {
    "name": "ipython",
    "version": 3
   },
   "file_extension": ".py",
   "mimetype": "text/x-python",
   "name": "python",
   "nbconvert_exporter": "python",
   "pygments_lexer": "ipython3",
   "version": "3.10.10"
  }
 },
 "nbformat": 4,
 "nbformat_minor": 4
}
